{
  "nbformat": 4,
  "nbformat_minor": 0,
  "metadata": {
    "colab": {
      "provenance": []
    },
    "kernelspec": {
      "name": "python3",
      "display_name": "Python 3"
    },
    "language_info": {
      "name": "python"
    }
  },
  "cells": [
    {
      "cell_type": "markdown",
      "source": [
        "- Problem definition: Given more than one features at each time stamp in the past, predict the Global_active_power at a single time-stamp in the future."
      ],
      "metadata": {
        "id": "_ROJZBmpNNyb"
      }
    },
    {
      "cell_type": "code",
      "execution_count": 1,
      "metadata": {
        "id": "8BUz412p72fO"
      },
      "outputs": [],
      "source": [
        "#imports\n",
        "\n",
        "import tensorflow as tf\n",
        "\n",
        "import matplotlib as mpl\n",
        "import matplotlib.pyplot as plt\n",
        "import numpy as np\n",
        "import os\n",
        "import pandas as pd\n",
        "\n",
        "# gloabl params for all matplotlib plots\n",
        "mpl.rcParams['figure.figsize'] = (8, 6)\n",
        "mpl.rcParams['axes.grid'] = False"
      ]
    },
    {
      "cell_type": "code",
      "source": [
        "zip_path = tf.keras.utils.get_file( \n",
        "    origin='http://archive.ics.uci.edu/ml/machine-learning-databases/00235/household_power_consumption.zip',\n",
        "\n",
        "    fname='household_power_consumption.zip',\n",
        "    extract=True)\n",
        "\n",
        "print(zip_path)"
      ],
      "metadata": {
        "colab": {
          "base_uri": "https://localhost:8080/"
        },
        "id": "goIlkl8GjPB6",
        "outputId": "0eb7070c-4f2d-4c0f-ef98-acfb078af6cd"
      },
      "execution_count": 2,
      "outputs": [
        {
          "output_type": "stream",
          "name": "stdout",
          "text": [
            "Downloading data from http://archive.ics.uci.edu/ml/machine-learning-databases/00235/household_power_consumption.zip\n",
            "20640916/20640916 [==============================] - 1s 0us/step\n",
            "/root/.keras/datasets/household_power_consumption.zip\n"
          ]
        }
      ]
    },
    {
      "cell_type": "code",
      "source": [
        "csv_path, _ = os.path.splitext(zip_path) \n",
        "print(csv_path)"
      ],
      "metadata": {
        "colab": {
          "base_uri": "https://localhost:8080/"
        },
        "id": "8SbBK4lqjVVr",
        "outputId": "b4b52e10-d546-4951-c8ab-73b49057adab"
      },
      "execution_count": 3,
      "outputs": [
        {
          "output_type": "stream",
          "name": "stdout",
          "text": [
            "/root/.keras/datasets/household_power_consumption\n"
          ]
        }
      ]
    },
    {
      "cell_type": "code",
      "source": [
        "df = pd.read_csv('/root/.keras/datasets/household_power_consumption.txt', sep=';', \n",
        "                 parse_dates={'dt' : ['Date', 'Time']}, infer_datetime_format=True, \n",
        "                 low_memory=False, na_values=['nan','?'],index_col='dt')"
      ],
      "metadata": {
        "id": "OPFbmLb88JaC"
      },
      "execution_count": 12,
      "outputs": []
    },
    {
      "cell_type": "code",
      "source": [
        "\n",
        "df.head(5)"
      ],
      "metadata": {
        "colab": {
          "base_uri": "https://localhost:8080/",
          "height": 238
        },
        "id": "AjbZ1txdCYv1",
        "outputId": "28ffb0db-2219-4745-a872-63b90e4c2cea"
      },
      "execution_count": 5,
      "outputs": [
        {
          "output_type": "execute_result",
          "data": {
            "text/plain": [
              "                     Global_active_power  Global_reactive_power  Voltage  \\\n",
              "dt                                                                         \n",
              "2006-12-16 17:24:00                4.216                  0.418   234.84   \n",
              "2006-12-16 17:25:00                5.360                  0.436   233.63   \n",
              "2006-12-16 17:26:00                5.374                  0.498   233.29   \n",
              "2006-12-16 17:27:00                5.388                  0.502   233.74   \n",
              "2006-12-16 17:28:00                3.666                  0.528   235.68   \n",
              "\n",
              "                     Global_intensity  Sub_metering_1  Sub_metering_2  \\\n",
              "dt                                                                      \n",
              "2006-12-16 17:24:00              18.4             0.0             1.0   \n",
              "2006-12-16 17:25:00              23.0             0.0             1.0   \n",
              "2006-12-16 17:26:00              23.0             0.0             2.0   \n",
              "2006-12-16 17:27:00              23.0             0.0             1.0   \n",
              "2006-12-16 17:28:00              15.8             0.0             1.0   \n",
              "\n",
              "                     Sub_metering_3  \n",
              "dt                                   \n",
              "2006-12-16 17:24:00            17.0  \n",
              "2006-12-16 17:25:00            16.0  \n",
              "2006-12-16 17:26:00            17.0  \n",
              "2006-12-16 17:27:00            17.0  \n",
              "2006-12-16 17:28:00            17.0  "
            ],
            "text/html": [
              "\n",
              "  <div id=\"df-2bdb5345-3d28-4d2f-94bb-7a4835d63e8e\">\n",
              "    <div class=\"colab-df-container\">\n",
              "      <div>\n",
              "<style scoped>\n",
              "    .dataframe tbody tr th:only-of-type {\n",
              "        vertical-align: middle;\n",
              "    }\n",
              "\n",
              "    .dataframe tbody tr th {\n",
              "        vertical-align: top;\n",
              "    }\n",
              "\n",
              "    .dataframe thead th {\n",
              "        text-align: right;\n",
              "    }\n",
              "</style>\n",
              "<table border=\"1\" class=\"dataframe\">\n",
              "  <thead>\n",
              "    <tr style=\"text-align: right;\">\n",
              "      <th></th>\n",
              "      <th>Global_active_power</th>\n",
              "      <th>Global_reactive_power</th>\n",
              "      <th>Voltage</th>\n",
              "      <th>Global_intensity</th>\n",
              "      <th>Sub_metering_1</th>\n",
              "      <th>Sub_metering_2</th>\n",
              "      <th>Sub_metering_3</th>\n",
              "    </tr>\n",
              "    <tr>\n",
              "      <th>dt</th>\n",
              "      <th></th>\n",
              "      <th></th>\n",
              "      <th></th>\n",
              "      <th></th>\n",
              "      <th></th>\n",
              "      <th></th>\n",
              "      <th></th>\n",
              "    </tr>\n",
              "  </thead>\n",
              "  <tbody>\n",
              "    <tr>\n",
              "      <th>2006-12-16 17:24:00</th>\n",
              "      <td>4.216</td>\n",
              "      <td>0.418</td>\n",
              "      <td>234.84</td>\n",
              "      <td>18.4</td>\n",
              "      <td>0.0</td>\n",
              "      <td>1.0</td>\n",
              "      <td>17.0</td>\n",
              "    </tr>\n",
              "    <tr>\n",
              "      <th>2006-12-16 17:25:00</th>\n",
              "      <td>5.360</td>\n",
              "      <td>0.436</td>\n",
              "      <td>233.63</td>\n",
              "      <td>23.0</td>\n",
              "      <td>0.0</td>\n",
              "      <td>1.0</td>\n",
              "      <td>16.0</td>\n",
              "    </tr>\n",
              "    <tr>\n",
              "      <th>2006-12-16 17:26:00</th>\n",
              "      <td>5.374</td>\n",
              "      <td>0.498</td>\n",
              "      <td>233.29</td>\n",
              "      <td>23.0</td>\n",
              "      <td>0.0</td>\n",
              "      <td>2.0</td>\n",
              "      <td>17.0</td>\n",
              "    </tr>\n",
              "    <tr>\n",
              "      <th>2006-12-16 17:27:00</th>\n",
              "      <td>5.388</td>\n",
              "      <td>0.502</td>\n",
              "      <td>233.74</td>\n",
              "      <td>23.0</td>\n",
              "      <td>0.0</td>\n",
              "      <td>1.0</td>\n",
              "      <td>17.0</td>\n",
              "    </tr>\n",
              "    <tr>\n",
              "      <th>2006-12-16 17:28:00</th>\n",
              "      <td>3.666</td>\n",
              "      <td>0.528</td>\n",
              "      <td>235.68</td>\n",
              "      <td>15.8</td>\n",
              "      <td>0.0</td>\n",
              "      <td>1.0</td>\n",
              "      <td>17.0</td>\n",
              "    </tr>\n",
              "  </tbody>\n",
              "</table>\n",
              "</div>\n",
              "      <button class=\"colab-df-convert\" onclick=\"convertToInteractive('df-2bdb5345-3d28-4d2f-94bb-7a4835d63e8e')\"\n",
              "              title=\"Convert this dataframe to an interactive table.\"\n",
              "              style=\"display:none;\">\n",
              "        \n",
              "  <svg xmlns=\"http://www.w3.org/2000/svg\" height=\"24px\"viewBox=\"0 0 24 24\"\n",
              "       width=\"24px\">\n",
              "    <path d=\"M0 0h24v24H0V0z\" fill=\"none\"/>\n",
              "    <path d=\"M18.56 5.44l.94 2.06.94-2.06 2.06-.94-2.06-.94-.94-2.06-.94 2.06-2.06.94zm-11 1L8.5 8.5l.94-2.06 2.06-.94-2.06-.94L8.5 2.5l-.94 2.06-2.06.94zm10 10l.94 2.06.94-2.06 2.06-.94-2.06-.94-.94-2.06-.94 2.06-2.06.94z\"/><path d=\"M17.41 7.96l-1.37-1.37c-.4-.4-.92-.59-1.43-.59-.52 0-1.04.2-1.43.59L10.3 9.45l-7.72 7.72c-.78.78-.78 2.05 0 2.83L4 21.41c.39.39.9.59 1.41.59.51 0 1.02-.2 1.41-.59l7.78-7.78 2.81-2.81c.8-.78.8-2.07 0-2.86zM5.41 20L4 18.59l7.72-7.72 1.47 1.35L5.41 20z\"/>\n",
              "  </svg>\n",
              "      </button>\n",
              "      \n",
              "  <style>\n",
              "    .colab-df-container {\n",
              "      display:flex;\n",
              "      flex-wrap:wrap;\n",
              "      gap: 12px;\n",
              "    }\n",
              "\n",
              "    .colab-df-convert {\n",
              "      background-color: #E8F0FE;\n",
              "      border: none;\n",
              "      border-radius: 50%;\n",
              "      cursor: pointer;\n",
              "      display: none;\n",
              "      fill: #1967D2;\n",
              "      height: 32px;\n",
              "      padding: 0 0 0 0;\n",
              "      width: 32px;\n",
              "    }\n",
              "\n",
              "    .colab-df-convert:hover {\n",
              "      background-color: #E2EBFA;\n",
              "      box-shadow: 0px 1px 2px rgba(60, 64, 67, 0.3), 0px 1px 3px 1px rgba(60, 64, 67, 0.15);\n",
              "      fill: #174EA6;\n",
              "    }\n",
              "\n",
              "    [theme=dark] .colab-df-convert {\n",
              "      background-color: #3B4455;\n",
              "      fill: #D2E3FC;\n",
              "    }\n",
              "\n",
              "    [theme=dark] .colab-df-convert:hover {\n",
              "      background-color: #434B5C;\n",
              "      box-shadow: 0px 1px 3px 1px rgba(0, 0, 0, 0.15);\n",
              "      filter: drop-shadow(0px 1px 2px rgba(0, 0, 0, 0.3));\n",
              "      fill: #FFFFFF;\n",
              "    }\n",
              "  </style>\n",
              "\n",
              "      <script>\n",
              "        const buttonEl =\n",
              "          document.querySelector('#df-2bdb5345-3d28-4d2f-94bb-7a4835d63e8e button.colab-df-convert');\n",
              "        buttonEl.style.display =\n",
              "          google.colab.kernel.accessAllowed ? 'block' : 'none';\n",
              "\n",
              "        async function convertToInteractive(key) {\n",
              "          const element = document.querySelector('#df-2bdb5345-3d28-4d2f-94bb-7a4835d63e8e');\n",
              "          const dataTable =\n",
              "            await google.colab.kernel.invokeFunction('convertToInteractive',\n",
              "                                                     [key], {});\n",
              "          if (!dataTable) return;\n",
              "\n",
              "          const docLinkHtml = 'Like what you see? Visit the ' +\n",
              "            '<a target=\"_blank\" href=https://colab.research.google.com/notebooks/data_table.ipynb>data table notebook</a>'\n",
              "            + ' to learn more about interactive tables.';\n",
              "          element.innerHTML = '';\n",
              "          dataTable['output_type'] = 'display_data';\n",
              "          await google.colab.output.renderOutput(dataTable, element);\n",
              "          const docLink = document.createElement('div');\n",
              "          docLink.innerHTML = docLinkHtml;\n",
              "          element.appendChild(docLink);\n",
              "        }\n",
              "      </script>\n",
              "    </div>\n",
              "  </div>\n",
              "  "
            ]
          },
          "metadata": {},
          "execution_count": 5
        }
      ]
    },
    {
      "cell_type": "code",
      "source": [
        "df.shape"
      ],
      "metadata": {
        "colab": {
          "base_uri": "https://localhost:8080/"
        },
        "id": "3w5JIe90Gi5o",
        "outputId": "70def3ab-f1ba-4b64-c3fa-aa6d56d3c74c"
      },
      "execution_count": 13,
      "outputs": [
        {
          "output_type": "execute_result",
          "data": {
            "text/plain": [
              "(2075259, 7)"
            ]
          },
          "metadata": {},
          "execution_count": 13
        }
      ]
    },
    {
      "cell_type": "code",
      "source": [
        "#checking for missing values\n",
        "df.columns[df.isnull().any()]"
      ],
      "metadata": {
        "colab": {
          "base_uri": "https://localhost:8080/"
        },
        "id": "FqO_-I0i8Vw9",
        "outputId": "b24945aa-ed84-46d8-ae6c-5871fd3a51d6"
      },
      "execution_count": 14,
      "outputs": [
        {
          "output_type": "execute_result",
          "data": {
            "text/plain": [
              "Index(['Global_active_power', 'Global_reactive_power', 'Voltage',\n",
              "       'Global_intensity', 'Sub_metering_1', 'Sub_metering_2',\n",
              "       'Sub_metering_3'],\n",
              "      dtype='object')"
            ]
          },
          "metadata": {},
          "execution_count": 14
        }
      ]
    },
    {
      "cell_type": "code",
      "source": [
        "#removing missing values\n",
        "df=df.interpolate(method ='linear', limit_direction ='forward')"
      ],
      "metadata": {
        "id": "qDDP79l98dd9"
      },
      "execution_count": 15,
      "outputs": []
    },
    {
      "cell_type": "code",
      "source": [
        "df.columns[df.isnull().any()]"
      ],
      "metadata": {
        "colab": {
          "base_uri": "https://localhost:8080/"
        },
        "id": "xH6OEyVSOjzs",
        "outputId": "cfbf5552-c57a-43c2-8d3f-9a85dad57f3d"
      },
      "execution_count": 16,
      "outputs": [
        {
          "output_type": "execute_result",
          "data": {
            "text/plain": [
              "Index([], dtype='object')"
            ]
          },
          "metadata": {},
          "execution_count": 16
        }
      ]
    },
    {
      "cell_type": "code",
      "source": [
        "df.plot(subplots=True)"
      ],
      "metadata": {
        "colab": {
          "base_uri": "https://localhost:8080/",
          "height": 539
        },
        "id": "zqOB46UYOmkk",
        "outputId": "fc0e999e-27e4-4e2b-ea9f-7be826f67c19"
      },
      "execution_count": 10,
      "outputs": [
        {
          "output_type": "execute_result",
          "data": {
            "text/plain": [
              "array([<matplotlib.axes._subplots.AxesSubplot object at 0x7f202c5e4f50>,\n",
              "       <matplotlib.axes._subplots.AxesSubplot object at 0x7f2026f70910>,\n",
              "       <matplotlib.axes._subplots.AxesSubplot object at 0x7f2026f2fc10>,\n",
              "       <matplotlib.axes._subplots.AxesSubplot object at 0x7f2026ea6f50>,\n",
              "       <matplotlib.axes._subplots.AxesSubplot object at 0x7f2026e6a2d0>,\n",
              "       <matplotlib.axes._subplots.AxesSubplot object at 0x7f2026e24610>,\n",
              "       <matplotlib.axes._subplots.AxesSubplot object at 0x7f2026dd99d0>],\n",
              "      dtype=object)"
            ]
          },
          "metadata": {},
          "execution_count": 10
        },
        {
          "output_type": "display_data",
          "data": {
            "text/plain": [
              "<Figure size 576x432 with 7 Axes>"
            ],
            "image/png": "[encoded data removed]"
          },
          "metadata": {
            "needs_background": "light"
          }
        }
      ]
    },
    {
      "cell_type": "code",
      "source": [
        "#lets only use 3 features for prediction, remember we can use any no of features\n",
        "df=df[['Global_active_power','Global_reactive_power','Global_intensity']]\n"
      ],
      "metadata": {
        "id": "mGE2GnLmkkde"
      },
      "execution_count": 17,
      "outputs": []
    },
    {
      "cell_type": "code",
      "source": [
        "#first step is to standardize  or normalize the dataset...remember to only use training data \n",
        "# Standardize data\n",
        "train_split = 1800000  \n",
        "\n",
        "multi_single = df.values\n",
        "data_mean = multi_single[:train_split].mean(axis=0)\n",
        "data_std = multi_single[:train_split].std(axis=0)\n",
        "\n",
        "multi_single= (multi_single-data_mean)/data_std"
      ],
      "metadata": {
        "id": "ufs1hunWOqey"
      },
      "execution_count": 35,
      "outputs": []
    },
    {
      "cell_type": "code",
      "source": [
        "#defining a function to get our data in multi variate data\n",
        "# Same as univariate_data above.\n",
        "\n",
        "# New params:\n",
        "# step: instead of taking data for each 1min as in pur data, we can say we want to use 1 reading every 10 min\n",
        "# single_step: lables from single timestamp or multiple timesteps\n",
        "\n",
        "\n",
        "def multivariate_data(dataset, target, start_index, end_index, history_size,\n",
        "                      target_size, step, single_step=False):\n",
        "  data = []\n",
        "  labels = []\n",
        "\n",
        "  start_index = start_index + history_size\n",
        "  if end_index is None:\n",
        "    end_index = len(dataset) - target_size\n",
        "\n",
        "  for i in range(start_index, end_index):\n",
        "    indices = range(i-history_size, i, step) # step used here.\n",
        "    data.append(dataset[indices])\n",
        "\n",
        "    if single_step: # single_step used here.\n",
        "      labels.append(target[i+target_size]) \n",
        "    else:\n",
        "      labels.append(target[i:i+target_size]) \n",
        "\n",
        "  return np.array(data), np.array(labels)"
      ],
      "metadata": {
        "id": "ZBA1uDRoQase"
      },
      "execution_count": 36,
      "outputs": []
    },
    {
      "cell_type": "code",
      "source": [
        "# Generate data\n",
        "train_split=1500000\n",
        "test_split=1800000\n",
        "\n",
        "past_history = 300  #(say we want to consider history of last 5 hours so past history is 5 X 60)\n",
        "future_target = 10   # say we want output value after 10 mins, we can keep it 0 for current value prediction )\n",
        "STEP = 6  # one obs every 6 min  (instead of taking data for each 1min as in pur data, we can say we want to use 1 reading every 6  min)\n",
        "\n",
        "\n",
        "\n",
        "\n",
        "\n",
        "x_train_single, y_train_single = multivariate_data(multi_single, multi_single[:, 1], 0,\n",
        "                                                   train_split, past_history,\n",
        "                                                   future_target, STEP,\n",
        "                                                   single_step=True)\n",
        "x_val_single, y_val_single = multivariate_data(multi_single,multi_single[:, 1],\n",
        "                                               train_split, test_split, past_history,\n",
        "                                               future_target, STEP,\n",
        "                                               single_step=True)\n",
        "\n",
        "x_test_single, y_test_single = multivariate_data(multi_single,multi_single[:, 1],\n",
        "                                               test_split, None, past_history,\n",
        "                                               future_target, STEP,\n",
        "                                               single_step=True)\n",
        "\n",
        "print(x_train_single.shape)\n",
        "print(y_train_single.shape)\n",
        "print(x_val_single.shape)\n",
        "print(y_val_single.shape)\n",
        "print(x_test_single.shape)\n",
        "print(y_test_single.shape)\n",
        "\n"
      ],
      "metadata": {
        "colab": {
          "base_uri": "https://localhost:8080/"
        },
        "id": "aLyVlYeUQ8K1",
        "outputId": "2d31369f-7fb0-4b1e-d7ec-474fba70c534"
      },
      "execution_count": 37,
      "outputs": [
        {
          "output_type": "stream",
          "name": "stdout",
          "text": [
            "(1499700, 50, 3)\n",
            "(1499700,)\n",
            "(299700, 50, 3)\n",
            "(299700,)\n",
            "(274949, 50, 3)\n",
            "(274949,)\n"
          ]
        }
      ]
    },
    {
      "cell_type": "code",
      "source": [
        "BATCH_SIZE = 256 # bacth size in batch-SGD/variants\n",
        "BUFFER_SIZE = 10000 # for shuffling the dataset\n",
        "\n",
        "train_multivariate = tf.data.Dataset.from_tensor_slices((x_train_single, y_train_single))\n",
        "train_multivariate = train_multivariate.cache().shuffle(BUFFER_SIZE).batch(BATCH_SIZE).repeat()\n",
        "#https://www.tensorflow.org/api_docs/python/tf/data/Dataset#repeat\n",
        "\n",
        "val_multivariate = tf.data.Dataset.from_tensor_slices((x_val_single, y_val_single))\n",
        "val_multivariate = val_multivariate.batch(BATCH_SIZE).repeat()\n",
        "\n",
        "\n",
        "test_multivariate = tf.data.Dataset.from_tensor_slices((x_test_single, y_test_single))\n",
        "test_multivariate = test_multivariate.batch(BATCH_SIZE)\n",
        "\n",
        "\n",
        "\n",
        "print(train_multivariate)\n",
        "print(val_multivariate)\n",
        "print(test_multivariate)"
      ],
      "metadata": {
        "colab": {
          "base_uri": "https://localhost:8080/"
        },
        "id": "vdsLiW4wVql2",
        "outputId": "29b47996-b104-4106-8c5b-8d2bf31254ec"
      },
      "execution_count": 38,
      "outputs": [
        {
          "output_type": "stream",
          "name": "stdout",
          "text": [
            "<RepeatDataset element_spec=(TensorSpec(shape=(None, 50, 3), dtype=tf.float64, name=None), TensorSpec(shape=(None,), dtype=tf.float64, name=None))>\n",
            "<RepeatDataset element_spec=(TensorSpec(shape=(None, 50, 3), dtype=tf.float64, name=None), TensorSpec(shape=(None,), dtype=tf.float64, name=None))>\n",
            "<BatchDataset element_spec=(TensorSpec(shape=(None, 50, 3), dtype=tf.float64, name=None), TensorSpec(shape=(None,), dtype=tf.float64, name=None))>\n"
          ]
        }
      ]
    },
    {
      "cell_type": "code",
      "source": [
        "# Model\n",
        "STEPS_PER_EPOCH = 200\n",
        "EPOCHS = 10\n",
        "\n",
        "multivariate_single_step_model = tf.keras.models.Sequential()\n",
        "multivariate_single_step_model.add(tf.keras.layers.LSTM(32,\n",
        "                                           input_shape=x_train_single.shape[-2:]))\n",
        "multivariate_single_step_model.add(tf.keras.layers.Dense(1))\n",
        "\n",
        "multivariate_single_step_model.compile(optimizer=tf.keras.optimizers.RMSprop(), loss='mae')\n",
        "\n",
        "multivariate_single_step_history = multivariate_single_step_model.fit(train_multivariate, epochs=EPOCHS,\n",
        "                                            steps_per_epoch=STEPS_PER_EPOCH,\n",
        "                                            validation_data=val_multivariate,\n",
        "                                            validation_steps=50)"
      ],
      "metadata": {
        "colab": {
          "base_uri": "https://localhost:8080/"
        },
        "id": "juN9kSveod_v",
        "outputId": "1d63e3b0-e3f3-4b45-f115-cce4b65d0dbe"
      },
      "execution_count": 39,
      "outputs": [
        {
          "output_type": "stream",
          "name": "stdout",
          "text": [
            "Epoch 1/10\n",
            "200/200 [==============================] - 8s 32ms/step - loss: 0.7723 - val_loss: 0.8106\n",
            "Epoch 2/10\n",
            "200/200 [==============================] - 7s 34ms/step - loss: 0.6845 - val_loss: 0.7608\n",
            "Epoch 3/10\n",
            "200/200 [==============================] - 6s 29ms/step - loss: 0.6034 - val_loss: 0.7973\n",
            "Epoch 4/10\n",
            "200/200 [==============================] - 6s 31ms/step - loss: 0.5310 - val_loss: 0.7534\n",
            "Epoch 5/10\n",
            "200/200 [==============================] - 6s 28ms/step - loss: 0.5746 - val_loss: 0.9458\n",
            "Epoch 6/10\n",
            "200/200 [==============================] - 6s 28ms/step - loss: 0.6482 - val_loss: 0.8856\n",
            "Epoch 7/10\n",
            "200/200 [==============================] - 6s 29ms/step - loss: 0.4935 - val_loss: 0.8713\n",
            "Epoch 8/10\n",
            "200/200 [==============================] - 6s 29ms/step - loss: 0.5799 - val_loss: 0.8103\n",
            "Epoch 9/10\n",
            "200/200 [==============================] - 6s 28ms/step - loss: 0.5264 - val_loss: 0.8409\n",
            "Epoch 10/10\n",
            "200/200 [==============================] - 6s 28ms/step - loss: 0.5189 - val_loss: 0.8745\n"
          ]
        }
      ]
    },
    {
      "cell_type": "code",
      "source": [
        "\n",
        "def plot_train_history(history, title):\n",
        "  loss = history.history['loss']\n",
        "  val_loss = history.history['val_loss']\n",
        "\n",
        "  epochs = range(len(loss))\n",
        "\n",
        "  plt.figure()\n",
        "\n",
        "  plt.plot(epochs, loss, 'b', label='Training loss')\n",
        "  plt.plot(epochs, val_loss, 'r', label='Validation loss')\n",
        "  plt.title(title)\n",
        "  plt.legend()\n",
        "  plt.grid()\n",
        "\n",
        "  plt.show()\n",
        "\n",
        "\n",
        "\n",
        "plot_train_history(multivariate_single_step_history,\n",
        "                   'Univariate Training and validation loss')\n",
        "plt.savefig('file2.png',dpi=300)"
      ],
      "metadata": {
        "colab": {
          "base_uri": "https://localhost:8080/",
          "height": 407
        },
        "id": "b7N-3gTTpaVE",
        "outputId": "fe273ad2-741c-47c8-8a82-f528ac10e311"
      },
      "execution_count": 34,
      "outputs": [
        {
          "output_type": "display_data",
          "data": {
            "text/plain": [
              "<Figure size 576x432 with 1 Axes>"
            ],
            "image/png": "[encoded data removed]"
          },
          "metadata": {
            "needs_background": "light"
          }
        },
        {
          "output_type": "display_data",
          "data": {
            "text/plain": [
              "<Figure size 576x432 with 0 Axes>"
            ]
          },
          "metadata": {}
        }
      ]
    },
    {
      "cell_type": "code",
      "source": [
        "print(\"Evaluate\")\n",
        "result = multivariate_single_step_model.evaluate(test_multivariate)\n",
        "print(result)"
      ],
      "metadata": {
        "colab": {
          "base_uri": "https://localhost:8080/"
        },
        "id": "IbUDuizFuIcz",
        "outputId": "6c314c91-feff-417e-98b4-a64dcfe2a834"
      },
      "execution_count": 40,
      "outputs": [
        {
          "output_type": "stream",
          "name": "stdout",
          "text": [
            "Evaluate\n",
            "1075/1075 [==============================] - 16s 15ms/step - loss: 0.7666\n",
            "0.7666165232658386\n"
          ]
        }
      ]
    },
    {
      "cell_type": "code",
      "source": [],
      "metadata": {
        "id": "CpW72FnbuQEl"
      },
      "execution_count": 33,
      "outputs": []
    }
  ]
}